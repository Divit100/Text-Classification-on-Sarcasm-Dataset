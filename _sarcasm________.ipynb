{
  "nbformat": 4,
  "nbformat_minor": 0,
  "metadata": {
    "colab": {
      "name": "@@@sarcasm________.ipynb",
      "provenance": [],
      "collapsed_sections": [],
      "authorship_tag": "ABX9TyNr4EfjK+PWP7cybGT+Gq/3"
    },
    "kernelspec": {
      "name": "python3",
      "display_name": "Python 3"
    },
    "accelerator": "GPU"
  },
  "cells": [
    {
      "cell_type": "code",
      "metadata": {
        "id": "Btt3ONpDE_vP",
        "colab_type": "code",
        "colab": {
          "base_uri": "https://localhost:8080/",
          "height": 204
        },
        "outputId": "11d804ae-4e40-4fff-a81a-0d9c89bce0a1"
      },
      "source": [
        "!wget --no-check-certificate \\\n",
        "    https://storage.googleapis.com/laurencemoroney-blog.appspot.com/sarcasm.json \\\n",
        "    -O /tmp/sarcasm.json"
      ],
      "execution_count": null,
      "outputs": [
        {
          "output_type": "stream",
          "text": [
            "--2020-06-24 08:53:50--  https://storage.googleapis.com/laurencemoroney-blog.appspot.com/sarcasm.json\n",
            "Resolving storage.googleapis.com (storage.googleapis.com)... 74.125.143.128, 2a00:1450:4013:c03::80\n",
            "Connecting to storage.googleapis.com (storage.googleapis.com)|74.125.143.128|:443... connected.\n",
            "HTTP request sent, awaiting response... 200 OK\n",
            "Length: 5643545 (5.4M) [application/json]\n",
            "Saving to: ‘/tmp/sarcasm.json’\n",
            "\n",
            "\r/tmp/sarcasm.json     0%[                    ]       0  --.-KB/s               \r/tmp/sarcasm.json   100%[===================>]   5.38M  --.-KB/s    in 0.04s   \n",
            "\n",
            "2020-06-24 08:53:50 (139 MB/s) - ‘/tmp/sarcasm.json’ saved [5643545/5643545]\n",
            "\n"
          ],
          "name": "stdout"
        }
      ]
    },
    {
      "cell_type": "code",
      "metadata": {
        "id": "EDgPZAnbFCM5",
        "colab_type": "code",
        "colab": {}
      },
      "source": [
        "import json"
      ],
      "execution_count": null,
      "outputs": []
    },
    {
      "cell_type": "code",
      "metadata": {
        "id": "X-D_joszFVBJ",
        "colab_type": "code",
        "colab": {}
      },
      "source": [
        "with open('/tmp/sarcasm.json','r') as f:\n",
        "  sarcastic_dataset=json.load(f)"
      ],
      "execution_count": null,
      "outputs": []
    },
    {
      "cell_type": "code",
      "metadata": {
        "id": "poexZSLAFVf7",
        "colab_type": "code",
        "colab": {}
      },
      "source": [
        "sentences=[]\n",
        "labels=[]\n",
        "\n",
        "for item in sarcastic_dataset:\n",
        "  sentences.append(item['headline'])\n",
        "  labels.append(item['is_sarcastic'])"
      ],
      "execution_count": null,
      "outputs": []
    },
    {
      "cell_type": "code",
      "metadata": {
        "id": "Ny-i9uIjFViQ",
        "colab_type": "code",
        "colab": {}
      },
      "source": [
        "training_size=20000\n",
        "vocabulary=10001\n",
        "embedding_dims=16\n",
        "maxlen=100\n",
        "truncating='post'\n",
        "padding='post'\n"
      ],
      "execution_count": null,
      "outputs": []
    },
    {
      "cell_type": "code",
      "metadata": {
        "id": "Vcs5_4H_FVlB",
        "colab_type": "code",
        "colab": {}
      },
      "source": [
        "training_sentences=sentences[:training_size]\n",
        "testing_sentences=sentences[training_size:]\n",
        "\n",
        "training_labels=labels[:training_size]\n",
        "testing_labels=labels[training_size:]"
      ],
      "execution_count": null,
      "outputs": []
    },
    {
      "cell_type": "code",
      "metadata": {
        "id": "Oi86OyvOFVng",
        "colab_type": "code",
        "colab": {}
      },
      "source": [
        "from tensorflow.keras.preprocessing.text import Tokenizer \n",
        "from tensorflow.keras.preprocessing.sequence import pad_sequences\n",
        "\n",
        "tokenizer=Tokenizer(num_words=vocabulary,oov_token='**OOV**')\n",
        "tokenizer.fit_on_texts(training_sentences)\n",
        "word_index=tokenizer.word_index\n",
        "training_sequence=tokenizer.texts_to_sequences(training_sentences)\n",
        "training_padded=pad_sequences(training_sequence,maxlen=maxlen,padding=padding,truncating=truncating)\n",
        "\n",
        "testing_sequence=tokenizer.texts_to_sequences(testing_sentences)\n",
        "testing_padded=pad_sequences(testing_sequence,maxlen=maxlen,padding=padding,truncating=truncating)"
      ],
      "execution_count": null,
      "outputs": []
    },
    {
      "cell_type": "code",
      "metadata": {
        "id": "ixuf_UJyOqSW",
        "colab_type": "code",
        "colab": {}
      },
      "source": [
        "import numpy as np\n"
      ],
      "execution_count": null,
      "outputs": []
    },
    {
      "cell_type": "code",
      "metadata": {
        "id": "GCnK8vKrPJA-",
        "colab_type": "code",
        "colab": {}
      },
      "source": [
        "training_padded=np.array(training_padded)\n",
        "testing_padded=np.array(testing_padded)\n",
        "training_labels=np.array(training_labels)\n",
        "testing_labels=np.array(testing_labels)"
      ],
      "execution_count": null,
      "outputs": []
    },
    {
      "cell_type": "code",
      "metadata": {
        "id": "bxH0WPcAPZFM",
        "colab_type": "code",
        "colab": {}
      },
      "source": [
        "epochs=30"
      ],
      "execution_count": null,
      "outputs": []
    },
    {
      "cell_type": "code",
      "metadata": {
        "id": "mRoyPzdVQAbD",
        "colab_type": "code",
        "colab": {}
      },
      "source": [
        "from tensorflow.keras.models import Sequential\n",
        "from tensorflow.keras.layers import Dense,Embedding,GlobalAveragePooling1D\n",
        "\n",
        "model=Sequential()\n",
        "model.add(Embedding(vocabulary,embedding_dims,input_length=maxlen))\n",
        "model.add(GlobalAveragePooling1D())\n",
        "\n",
        "\n",
        "model.add(Dense(24,activation='relu'))\n",
        "model.add(Dense(1,activation='sigmoid'))\n",
        "\n",
        "model.compile(loss='binary_crossentropy',optimizer='adam',metrics=['accuracy'])"
      ],
      "execution_count": null,
      "outputs": []
    },
    {
      "cell_type": "code",
      "metadata": {
        "id": "iB6rtF7XV0U4",
        "colab_type": "code",
        "colab": {}
      },
      "source": [
        "from tensorflow.keras.callbacks import EarlyStopping\n",
        "early_stop=EarlyStopping(patience=2,monitor='val_loss',mode='min')"
      ],
      "execution_count": null,
      "outputs": []
    },
    {
      "cell_type": "code",
      "metadata": {
        "id": "UnzsUXOnV0aG",
        "colab_type": "code",
        "colab": {
          "base_uri": "https://localhost:8080/",
          "height": 272
        },
        "outputId": "84a58396-4975-40ee-dc96-30c0686bd679"
      },
      "source": [
        "model.fit(training_padded,training_labels,epochs=epochs,validation_data=(testing_padded,testing_labels),callbacks=[early_stop])"
      ],
      "execution_count": null,
      "outputs": [
        {
          "output_type": "stream",
          "text": [
            "Epoch 1/30\n",
            "625/625 [==============================] - 3s 5ms/step - loss: 0.6693 - accuracy: 0.5750 - val_loss: 0.6121 - val_accuracy: 0.8010\n",
            "Epoch 2/30\n",
            "625/625 [==============================] - 3s 5ms/step - loss: 0.4543 - accuracy: 0.8215 - val_loss: 0.4008 - val_accuracy: 0.8264\n",
            "Epoch 3/30\n",
            "625/625 [==============================] - 3s 5ms/step - loss: 0.3231 - accuracy: 0.8735 - val_loss: 0.3762 - val_accuracy: 0.8313\n",
            "Epoch 4/30\n",
            "625/625 [==============================] - 3s 5ms/step - loss: 0.2707 - accuracy: 0.8951 - val_loss: 0.3494 - val_accuracy: 0.8512\n",
            "Epoch 5/30\n",
            "625/625 [==============================] - 3s 5ms/step - loss: 0.2338 - accuracy: 0.9096 - val_loss: 0.3418 - val_accuracy: 0.8572\n",
            "Epoch 6/30\n",
            "625/625 [==============================] - 3s 4ms/step - loss: 0.2061 - accuracy: 0.9210 - val_loss: 0.3470 - val_accuracy: 0.8557\n",
            "Epoch 7/30\n",
            "625/625 [==============================] - 3s 5ms/step - loss: 0.1836 - accuracy: 0.9309 - val_loss: 0.3658 - val_accuracy: 0.8496\n"
          ],
          "name": "stdout"
        },
        {
          "output_type": "execute_result",
          "data": {
            "text/plain": [
              "<tensorflow.python.keras.callbacks.History at 0x7fd3203fb7b8>"
            ]
          },
          "metadata": {
            "tags": []
          },
          "execution_count": 13
        }
      ]
    },
    {
      "cell_type": "code",
      "metadata": {
        "id": "AwEiGMA9V0f5",
        "colab_type": "code",
        "colab": {}
      },
      "source": [
        "import pandas as pd\n",
        "losses=pd.DataFrame(model.history.history)"
      ],
      "execution_count": null,
      "outputs": []
    },
    {
      "cell_type": "code",
      "metadata": {
        "id": "_KSVtRmhV0jm",
        "colab_type": "code",
        "colab": {}
      },
      "source": [
        "import matplotlib.pyplot as plt\n"
      ],
      "execution_count": null,
      "outputs": []
    },
    {
      "cell_type": "code",
      "metadata": {
        "id": "BhjEgYVbV0Yn",
        "colab_type": "code",
        "colab": {
          "base_uri": "https://localhost:8080/",
          "height": 266
        },
        "outputId": "75735302-2fa2-4738-c527-282c5522c787"
      },
      "source": [
        "losses"
      ],
      "execution_count": null,
      "outputs": [
        {
          "output_type": "execute_result",
          "data": {
            "text/html": [
              "<div>\n",
              "<style scoped>\n",
              "    .dataframe tbody tr th:only-of-type {\n",
              "        vertical-align: middle;\n",
              "    }\n",
              "\n",
              "    .dataframe tbody tr th {\n",
              "        vertical-align: top;\n",
              "    }\n",
              "\n",
              "    .dataframe thead th {\n",
              "        text-align: right;\n",
              "    }\n",
              "</style>\n",
              "<table border=\"1\" class=\"dataframe\">\n",
              "  <thead>\n",
              "    <tr style=\"text-align: right;\">\n",
              "      <th></th>\n",
              "      <th>loss</th>\n",
              "      <th>accuracy</th>\n",
              "      <th>val_loss</th>\n",
              "      <th>val_accuracy</th>\n",
              "    </tr>\n",
              "  </thead>\n",
              "  <tbody>\n",
              "    <tr>\n",
              "      <th>0</th>\n",
              "      <td>0.669250</td>\n",
              "      <td>0.57505</td>\n",
              "      <td>0.612115</td>\n",
              "      <td>0.801014</td>\n",
              "    </tr>\n",
              "    <tr>\n",
              "      <th>1</th>\n",
              "      <td>0.454265</td>\n",
              "      <td>0.82150</td>\n",
              "      <td>0.400810</td>\n",
              "      <td>0.826353</td>\n",
              "    </tr>\n",
              "    <tr>\n",
              "      <th>2</th>\n",
              "      <td>0.323137</td>\n",
              "      <td>0.87350</td>\n",
              "      <td>0.376177</td>\n",
              "      <td>0.831271</td>\n",
              "    </tr>\n",
              "    <tr>\n",
              "      <th>3</th>\n",
              "      <td>0.270729</td>\n",
              "      <td>0.89510</td>\n",
              "      <td>0.349429</td>\n",
              "      <td>0.851245</td>\n",
              "    </tr>\n",
              "    <tr>\n",
              "      <th>4</th>\n",
              "      <td>0.233819</td>\n",
              "      <td>0.90955</td>\n",
              "      <td>0.341789</td>\n",
              "      <td>0.857207</td>\n",
              "    </tr>\n",
              "    <tr>\n",
              "      <th>5</th>\n",
              "      <td>0.206078</td>\n",
              "      <td>0.92100</td>\n",
              "      <td>0.346950</td>\n",
              "      <td>0.855716</td>\n",
              "    </tr>\n",
              "    <tr>\n",
              "      <th>6</th>\n",
              "      <td>0.183606</td>\n",
              "      <td>0.93085</td>\n",
              "      <td>0.365770</td>\n",
              "      <td>0.849605</td>\n",
              "    </tr>\n",
              "  </tbody>\n",
              "</table>\n",
              "</div>"
            ],
            "text/plain": [
              "       loss  accuracy  val_loss  val_accuracy\n",
              "0  0.669250   0.57505  0.612115      0.801014\n",
              "1  0.454265   0.82150  0.400810      0.826353\n",
              "2  0.323137   0.87350  0.376177      0.831271\n",
              "3  0.270729   0.89510  0.349429      0.851245\n",
              "4  0.233819   0.90955  0.341789      0.857207\n",
              "5  0.206078   0.92100  0.346950      0.855716\n",
              "6  0.183606   0.93085  0.365770      0.849605"
            ]
          },
          "metadata": {
            "tags": []
          },
          "execution_count": 16
        }
      ]
    },
    {
      "cell_type": "code",
      "metadata": {
        "id": "gCYIyLnmYhg6",
        "colab_type": "code",
        "colab": {
          "base_uri": "https://localhost:8080/",
          "height": 299
        },
        "outputId": "f370901e-1a23-4423-ee8d-f13b5421ca74"
      },
      "source": [
        "plt.plot(losses[['loss','val_loss']])"
      ],
      "execution_count": null,
      "outputs": [
        {
          "output_type": "execute_result",
          "data": {
            "text/plain": [
              "[<matplotlib.lines.Line2D at 0x7fd320130748>,\n",
              " <matplotlib.lines.Line2D at 0x7fd320130048>]"
            ]
          },
          "metadata": {
            "tags": []
          },
          "execution_count": 17
        },
        {
          "output_type": "display_data",
          "data": {
            "image/png": "[encoded data removed]",
            "text/plain": [
              "<Figure size 432x288 with 1 Axes>"
            ]
          },
          "metadata": {
            "tags": [],
            "needs_background": "light"
          }
        }
      ]
    },
    {
      "cell_type": "code",
      "metadata": {
        "id": "4z1SNnhuY7-f",
        "colab_type": "code",
        "colab": {
          "base_uri": "https://localhost:8080/",
          "height": 299
        },
        "outputId": "fb18d827-fc8d-4d5a-c057-db24d71ea37f"
      },
      "source": [
        "plt.plot(losses[['accuracy','val_accuracy']])"
      ],
      "execution_count": null,
      "outputs": [
        {
          "output_type": "execute_result",
          "data": {
            "text/plain": [
              "[<matplotlib.lines.Line2D at 0x7fd3200c1f98>,\n",
              " <matplotlib.lines.Line2D at 0x7fd3201490f0>]"
            ]
          },
          "metadata": {
            "tags": []
          },
          "execution_count": 18
        },
        {
          "output_type": "display_data",
          "data": {
            "image/png": "[encoded data removed]",
            "text/plain": [
              "<Figure size 432x288 with 1 Axes>"
            ]
          },
          "metadata": {
            "tags": [],
            "needs_background": "light"
          }
        }
      ]
    },
    {
      "cell_type": "code",
      "metadata": {
        "id": "u5_TU78iZDTH",
        "colab_type": "code",
        "colab": {}
      },
      "source": [
        "rev_word=dict([(value,key) for (key,value) in word_index.items()])\n",
        "\n",
        "def decd(text):\n",
        "  return \" \".join([rev_word.get(i,'?') for i in text])"
      ],
      "execution_count": null,
      "outputs": []
    },
    {
      "cell_type": "code",
      "metadata": {
        "id": "dnFNTKoyZqqr",
        "colab_type": "code",
        "colab": {
          "base_uri": "https://localhost:8080/",
          "height": 88
        },
        "outputId": "daa45125-beb7-4e8a-9f9c-bec7a12f5da6"
      },
      "source": [
        "print(decd(training_padded[0]))\n",
        "print(training_sentences[0])\n",
        "print(training_labels[0])"
      ],
      "execution_count": null,
      "outputs": [
        {
          "output_type": "stream",
          "text": [
            "former **OOV** store clerk sues over secret 'black **OOV** for minority shoppers ? ? ? ? ? ? ? ? ? ? ? ? ? ? ? ? ? ? ? ? ? ? ? ? ? ? ? ? ? ? ? ? ? ? ? ? ? ? ? ? ? ? ? ? ? ? ? ? ? ? ? ? ? ? ? ? ? ? ? ? ? ? ? ? ? ? ? ? ? ? ? ? ? ? ? ? ? ? ? ? ? ? ? ? ? ? ? ?\n",
            "former versace store clerk sues over secret 'black code' for minority shoppers\n",
            "0\n"
          ],
          "name": "stdout"
        }
      ]
    },
    {
      "cell_type": "code",
      "metadata": {
        "id": "ZPcTfmp_e1Y3",
        "colab_type": "code",
        "colab": {}
      },
      "source": [
        "model_testing_sentences=['granny starting to fer that the spiders in the garden maybe real','game of thrones season finale showing this sunday night']\n",
        "model_testing_sequence=tokenizer.texts_to_sequences(model_testing_sentences)\n",
        "model_testing_padded=pad_sequences(model_testing_sequence,maxlen=maxlen,padding=padding,truncating=truncating)\n",
        "\n",
        "x=model.predict_classes(testing_padded)"
      ],
      "execution_count": null,
      "outputs": []
    },
    {
      "cell_type": "code",
      "metadata": {
        "id": "zP-eOVJalUhE",
        "colab_type": "code",
        "colab": {
          "base_uri": "https://localhost:8080/",
          "height": 51
        },
        "outputId": "15122124-9232-490a-d99c-9254d020123b"
      },
      "source": [
        "model.evaluate(testing_padded,testing_labels)"
      ],
      "execution_count": null,
      "outputs": [
        {
          "output_type": "stream",
          "text": [
            "210/210 [==============================] - 0s 2ms/step - loss: 0.3658 - accuracy: 0.8496\n"
          ],
          "name": "stdout"
        },
        {
          "output_type": "execute_result",
          "data": {
            "text/plain": [
              "[0.3657704293727875, 0.8496050238609314]"
            ]
          },
          "metadata": {
            "tags": []
          },
          "execution_count": 39
        }
      ]
    },
    {
      "cell_type": "code",
      "metadata": {
        "id": "S1KMIw4HlqIV",
        "colab_type": "code",
        "colab": {}
      },
      "source": [
        "from sklearn.metrics import classification_report,confusion_matrix"
      ],
      "execution_count": null,
      "outputs": []
    },
    {
      "cell_type": "code",
      "metadata": {
        "id": "eUo3Bk_dlvLm",
        "colab_type": "code",
        "colab": {
          "base_uri": "https://localhost:8080/",
          "height": 51
        },
        "outputId": "8bbf00a2-7a4a-4579-8a21-b5dbd899dcf8"
      },
      "source": [
        "print(confusion_matrix(testing_labels,x))"
      ],
      "execution_count": null,
      "outputs": [
        {
          "output_type": "stream",
          "text": [
            "[[3440  339]\n",
            " [ 670 2260]]\n"
          ],
          "name": "stdout"
        }
      ]
    },
    {
      "cell_type": "code",
      "metadata": {
        "id": "5qOb70rul7g1",
        "colab_type": "code",
        "colab": {}
      },
      "source": [
        ""
      ],
      "execution_count": null,
      "outputs": []
    }
  ]
}